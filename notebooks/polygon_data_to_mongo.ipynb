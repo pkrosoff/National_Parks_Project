{
 "cells": [
  {
   "cell_type": "code",
   "execution_count": 91,
   "metadata": {},
   "outputs": [
    {
     "ename": "TypeError",
     "evalue": "'NoneType' object is not subscriptable",
     "output_type": "error",
     "traceback": [
      "\u001b[0;31m---------------------------------------------------------------------------\u001b[0m",
      "\u001b[0;31mTypeError\u001b[0m                                 Traceback (most recent call last)",
      "\u001b[0;32m<ipython-input-91-bef25074a8d1>\u001b[0m in \u001b[0;36m<module>\u001b[0;34m\u001b[0m\n\u001b[1;32m     14\u001b[0m     \u001b[0;32mfor\u001b[0m \u001b[0mx\u001b[0m \u001b[0;32min\u001b[0m \u001b[0mrange\u001b[0m\u001b[0;34m(\u001b[0m\u001b[0;36m0\u001b[0m\u001b[0;34m,\u001b[0m\u001b[0mlen\u001b[0m\u001b[0;34m(\u001b[0m\u001b[0mfile_data\u001b[0m\u001b[0;34m[\u001b[0m\u001b[0;34m\"features\"\u001b[0m\u001b[0;34m]\u001b[0m\u001b[0;34m)\u001b[0m\u001b[0;34m)\u001b[0m\u001b[0;34m:\u001b[0m\u001b[0;34m\u001b[0m\u001b[0;34m\u001b[0m\u001b[0m\n\u001b[1;32m     15\u001b[0m         \u001b[0mtest\u001b[0m \u001b[0;34m=\u001b[0m \u001b[0mfile_data\u001b[0m\u001b[0;34m[\u001b[0m\u001b[0;34m\"features\"\u001b[0m\u001b[0;34m]\u001b[0m\u001b[0;34m[\u001b[0m\u001b[0mx\u001b[0m\u001b[0;34m]\u001b[0m\u001b[0;34m[\u001b[0m\u001b[0;34m\"properties\"\u001b[0m\u001b[0;34m]\u001b[0m\u001b[0;34m\u001b[0m\u001b[0;34m\u001b[0m\u001b[0m\n\u001b[0;32m---> 16\u001b[0;31m         \u001b[0mgeo\u001b[0m \u001b[0;34m=\u001b[0m \u001b[0mfile_data\u001b[0m\u001b[0;34m[\u001b[0m\u001b[0;34m\"features\"\u001b[0m\u001b[0;34m]\u001b[0m\u001b[0;34m[\u001b[0m\u001b[0mx\u001b[0m\u001b[0;34m]\u001b[0m\u001b[0;34m[\u001b[0m\u001b[0;34m\"geometry\"\u001b[0m\u001b[0;34m]\u001b[0m\u001b[0;34m[\u001b[0m\u001b[0;34m\"coordinates\"\u001b[0m\u001b[0;34m]\u001b[0m\u001b[0;34m[\u001b[0m\u001b[0;36m0\u001b[0m\u001b[0;34m]\u001b[0m\u001b[0;34m[\u001b[0m\u001b[0;36m0\u001b[0m\u001b[0;34m]\u001b[0m\u001b[0;34m\u001b[0m\u001b[0;34m\u001b[0m\u001b[0m\n\u001b[0m\u001b[1;32m     17\u001b[0m         \u001b[0;32mif\u001b[0m \u001b[0mtest\u001b[0m\u001b[0;34m[\u001b[0m\u001b[0;34m\"UNIT_TYPE\"\u001b[0m\u001b[0;34m]\u001b[0m \u001b[0;34m==\u001b[0m \u001b[0;34m\"National Park\"\u001b[0m\u001b[0;34m:\u001b[0m\u001b[0;34m\u001b[0m\u001b[0;34m\u001b[0m\u001b[0m\n\u001b[1;32m     18\u001b[0m \u001b[0;31m#             geo = file_data[\"features\"][x][\"geometry\"][\"coordinates\"][0][0]\u001b[0m\u001b[0;34m\u001b[0m\u001b[0;34m\u001b[0m\u001b[0;34m\u001b[0m\u001b[0m\n",
      "\u001b[0;31mTypeError\u001b[0m: 'NoneType' object is not subscriptable"
     ]
    }
   ],
   "source": [
    "import json\n",
    "import pymongo\n",
    "\n",
    "# dictionary_name[key] = value\n",
    "# so i want the key to be park_name, and value to be park name\n",
    "# THEN i want to have key gemoetry, and value list of lat longs\n",
    "\n",
    "\n",
    "clean_dict = {}\n",
    "\n",
    "with open('../data/nps_geo_boundary.json') as file:\n",
    "    file_data = json.load(file)\n",
    "    \n",
    "    for x in range(0,len(file_data[\"features\"])):\n",
    "        test = file_data[\"features\"][x][\"properties\"]\n",
    "        geo = file_data[\"features\"][x][\"geometry\"][\"coordinates\"][0][0]\n",
    "        if test[\"UNIT_TYPE\"] == \"National Park\":\n",
    "#             geo = file_data[\"features\"][x][\"geometry\"][\"coordinates\"][0][0]\n",
    "#             print(geo)\n",
    "            \n",
    "            clean_dict[\"park_name\"] = test[\"UNIT_NAME\"]\n",
    "            clean_dict[\"geometry\"] = geo\n",
    "#             print(clean_dict)\n",
    "\n",
    "        \n",
    "        \n",
    "#         if file_data[\"features\"][x][\"properties\"][\"UNIT_TYPE\"==\"National Park\"]:\n",
    "#             print(file_data[\"features\"][x][\"properties\"])\n",
    "#         else:\n",
    "#             pass\n",
    "        \n",
    "        \n",
    "        \n",
    "        \n",
    "        \n",
    "#     try: test[\"UNIT_TYPE\"==\"National Park\"]\n",
    "# #         print(test[\"UNIT_TYPE\"==\"National Park\"])\n",
    "#     clean_dict.append(test[\"UNIT_TYPE\"==\"National Park\"])\n",
    "#     except:\n",
    "#         pass\n",
    "# #     print(test[\"UNIT_TYPE\"==\"National Park\"])\n",
    "# #     test = file_data[\"features\"][1][\"properties\"]\n",
    "# #     print(test)\n",
    "\n",
    "# # Making Connection \n",
    "# conn = 'mongodb://localhost:27017'\n",
    "# client = pymongo.MongoClient(conn)\n",
    "   \n",
    "# # database  \n",
    "# db = client.np_polygon_db\n",
    "\n",
    "# # Created or Switched to collection  \n",
    "# # names: GeeksForGeeks \n",
    "# np_polygon_data = db.np_polygon_data\n",
    "# np_polygon_data.drop()\n",
    "# # Loading or Opening the json file \n",
    "# with open('../data/nps_geo_boundary.json') as file: \n",
    "#     file_data = json.load(file) \n",
    "      \n",
    "# # Inserting the loaded data in the Collection \n",
    "# # if JSON contains data more than one entry \n",
    "# # insert_many is used else inser_one is used \n",
    "# if isinstance(file_data, list): \n",
    "#     np_polygon_data.insert_many(file_data)   \n",
    "# else: \n",
    "#     np_polygon_data.insert_one(file_data) "
   ]
  },
  {
   "cell_type": "code",
   "execution_count": null,
   "metadata": {},
   "outputs": [],
   "source": []
  }
 ],
 "metadata": {
  "kernelspec": {
   "display_name": "Python 3",
   "language": "python",
   "name": "python3"
  },
  "language_info": {
   "codemirror_mode": {
    "name": "ipython",
    "version": 3
   },
   "file_extension": ".py",
   "mimetype": "text/x-python",
   "name": "python",
   "nbconvert_exporter": "python",
   "pygments_lexer": "ipython3",
   "version": "3.6.12"
  }
 },
 "nbformat": 4,
 "nbformat_minor": 4
}
