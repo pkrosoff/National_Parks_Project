{
 "cells": [
  {
   "cell_type": "code",
   "execution_count": 9,
   "metadata": {},
   "outputs": [],
   "source": [
    "# import dependencies\n",
    "import pandas as pd\n",
    "import pymongo"
   ]
  },
  {
   "cell_type": "code",
   "execution_count": 10,
   "metadata": {},
   "outputs": [],
   "source": [
    "# read data and rename column to be deleted later\n",
    "parks_data = pd.read_csv(\"../data/np_data.csv\")\n",
    "parks_data.rename(columns={\"area_km2\":\"AREA_km2\"},inplace=True)"
   ]
  },
  {
   "cell_type": "code",
   "execution_count": 11,
   "metadata": {},
   "outputs": [],
   "source": [
    "# splitting, reformatting area types\n",
    "parks_data[['AREA_acres','area_KM2']] = parks_data.AREA_km2.str.split(\"(\",expand=True)\n",
    "area_acres = parks_data['AREA_acres'].replace({' acres':'',',':''}, regex=True)\n",
    "area_acres = area_acres.str.strip().to_frame().astype('float')\n",
    "parks_data['area_acres'] = area_acres\n",
    "# finding km2 and mi2 with math\n",
    "parks_data['area_km2'] = round(parks_data['area_acres']*0.00404686,2)\n",
    "parks_data['area_miles2'] = round(parks_data['area_acres']*0.0015625,2)\n",
    "parks_data = parks_data.drop(columns=['AREA_km2', 'area_KM2','AREA_acres'])"
   ]
  },
  {
   "cell_type": "code",
   "execution_count": 12,
   "metadata": {},
   "outputs": [],
   "source": [
    "# create list of years 1904-2019\n",
    "parks = []\n",
    "for i in parks_data[\"park_name\"]:\n",
    "    parks.append(i)\n",
    "years = []\n",
    "for i in parks_data.loc[parks_data[\"park_name\"]==\"Acadia\",\"1904\":\"2019\"]:\n",
    "    years.append(i)"
   ]
  },
  {
   "cell_type": "code",
<<<<<<< HEAD
   "execution_count": 5,
=======
   "execution_count": 14,
>>>>>>> 09994c6d1cdc8749b40ec62f4d57a509e3cd8620
   "metadata": {},
   "outputs": [],
   "source": [
    "# create empty dictionary to hold all final information\n",
    "np_data = {}\n",
    "# add list of all parks and years as first item in final dict\n",
    "np_data[\"parks\"]=(parks)\n",
    "np_data[\"years\"]=(years)\n",
    "# working variable\n",
    "wip_dict = {}\n",
    "# loop through each park to gather stats and visit #s\n",
    "for i in parks_data[\"park_name\"]:\n",
    "    wip = parks_data.loc[parks_data[\"park_name\"]==i,:]\n",
    "    wip_list = []\n",
    "    wip_list1 = []\n",
    "    for j in years:\n",
    "        wip_list.append(j)\n",
    "        wip_list1.append(wip[j].item())\n",
    "    wip_dict = {\n",
    "        \"park_name\":i,\n",
    "        \"park_code\":parks_data.loc[parks_data[\"park_name\"]==i,\"park_code\"].item(),\n",
    "        \"region\":parks_data.loc[parks_data[\"park_name\"]==i,\"region\"].item(),\n",
    "        \"state\":parks_data.loc[parks_data[\"park_name\"]==i,\"state\"].item(),\n",
    "        \"date_established\":parks_data.loc[parks_data[\"park_name\"]==i,\"date_established\"].item(),\n",
    "        \"area_acres\":parks_data.loc[parks_data[\"park_name\"]==i,\"area_acres\"].item(),\n",
    "        \"area_km2\":parks_data.loc[parks_data[\"park_name\"]==i,\"area_km2\"].item(),\n",
    "        \"area_miles2\":parks_data.loc[parks_data[\"park_name\"]==i,\"area_miles2\"].item(),\n",
    "        \"img_url\":parks_data.loc[parks_data[\"park_name\"]==i,\"img_url\"].item(),\n",
    "        \"description\":parks_data.loc[parks_data[\"park_name\"]==i,\"description\"].item(),\n",
    "        \"visits\":{wip_list[i]: wip_list1[i] for i in range(len(wip_list))}\n",
    "    }\n",
    "    np_data[i]=(wip_dict)\n",
    "#np_data is now a dict of dicts holding all of the information"
   ]
  },
  {
   "cell_type": "code",
<<<<<<< HEAD
   "execution_count": 6,
=======
   "execution_count": 8,
>>>>>>> 09994c6d1cdc8749b40ec62f4d57a509e3cd8620
   "metadata": {},
   "outputs": [
    {
     "name": "stdout",
     "output_type": "stream",
     "text": [
      "Done,son\n"
     ]
    }
   ],
   "source": [
    "#PUSH np_data dict of dicts to MongoDB\n",
    "conn = 'mongodb://localhost:27017'\n",
    "client = pymongo.MongoClient(conn)\n",
    "# define the database\n",
    "db = client.national_parks_db\n",
    "# define collections\n",
    "park_info = db.park_info\n",
    "park_info.drop()\n",
    "park_info.insert_one(np_data)\n",
    "print(\"Done,son\")"
   ]
  },
  {
   "cell_type": "code",
   "execution_count": null,
   "metadata": {},
   "outputs": [],
   "source": []
  }
 ],
 "metadata": {
  "kernelspec": {
   "display_name": "Python 3",
   "language": "python",
   "name": "python3"
  },
  "language_info": {
   "codemirror_mode": {
    "name": "ipython",
    "version": 3
   },
   "file_extension": ".py",
   "mimetype": "text/x-python",
   "name": "python",
   "nbconvert_exporter": "python",
   "pygments_lexer": "ipython3",
   "version": "3.8.3"
  }
 },
 "nbformat": 4,
 "nbformat_minor": 4
}
