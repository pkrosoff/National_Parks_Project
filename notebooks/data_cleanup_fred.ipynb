{
 "cells": [
  {
   "cell_type": "code",
   "execution_count": 23,
   "metadata": {},
   "outputs": [],
   "source": [
    "# import dependencies\n",
    "import pandas as pd\n",
    "import pymongo"
   ]
  },
  {
   "cell_type": "code",
   "execution_count": 26,
   "metadata": {},
   "outputs": [
    {
     "data": {
      "text/html": [
       "<div>\n",
       "<style scoped>\n",
       "    .dataframe tbody tr th:only-of-type {\n",
       "        vertical-align: middle;\n",
       "    }\n",
       "\n",
       "    .dataframe tbody tr th {\n",
       "        vertical-align: top;\n",
       "    }\n",
       "\n",
       "    .dataframe thead th {\n",
       "        text-align: right;\n",
       "    }\n",
       "</style>\n",
       "<table border=\"1\" class=\"dataframe\">\n",
       "  <thead>\n",
       "    <tr style=\"text-align: right;\">\n",
       "      <th></th>\n",
       "      <th>Park_Name</th>\n",
       "      <th>Park_Region</th>\n",
       "      <th>January</th>\n",
       "      <th>February</th>\n",
       "      <th>March</th>\n",
       "      <th>April</th>\n",
       "      <th>May</th>\n",
       "      <th>June</th>\n",
       "      <th>July</th>\n",
       "      <th>August</th>\n",
       "      <th>September</th>\n",
       "      <th>October</th>\n",
       "      <th>November</th>\n",
       "      <th>December</th>\n",
       "    </tr>\n",
       "  </thead>\n",
       "  <tbody>\n",
       "    <tr>\n",
       "      <th>0</th>\n",
       "      <td>Acadia</td>\n",
       "      <td>Northeast</td>\n",
       "      <td>4897</td>\n",
       "      <td>4747</td>\n",
       "      <td>6974</td>\n",
       "      <td>13651</td>\n",
       "      <td>33695</td>\n",
       "      <td>65743</td>\n",
       "      <td>99069</td>\n",
       "      <td>101424</td>\n",
       "      <td>79451</td>\n",
       "      <td>60261</td>\n",
       "      <td>9108</td>\n",
       "      <td>4727</td>\n",
       "    </tr>\n",
       "    <tr>\n",
       "      <th>1</th>\n",
       "      <td>Arches</td>\n",
       "      <td>Intermountain</td>\n",
       "      <td>9872</td>\n",
       "      <td>14677</td>\n",
       "      <td>47401</td>\n",
       "      <td>59083</td>\n",
       "      <td>73696</td>\n",
       "      <td>74871</td>\n",
       "      <td>73381</td>\n",
       "      <td>65658</td>\n",
       "      <td>70500</td>\n",
       "      <td>58690</td>\n",
       "      <td>30006</td>\n",
       "      <td>16450</td>\n",
       "    </tr>\n",
       "    <tr>\n",
       "      <th>2</th>\n",
       "      <td>Badlands</td>\n",
       "      <td>Midwest</td>\n",
       "      <td>6427</td>\n",
       "      <td>6504</td>\n",
       "      <td>10662</td>\n",
       "      <td>13410</td>\n",
       "      <td>39212</td>\n",
       "      <td>77261</td>\n",
       "      <td>91826</td>\n",
       "      <td>79645</td>\n",
       "      <td>56216</td>\n",
       "      <td>18258</td>\n",
       "      <td>9636</td>\n",
       "      <td>6059</td>\n",
       "    </tr>\n",
       "    <tr>\n",
       "      <th>3</th>\n",
       "      <td>Big Bend</td>\n",
       "      <td>Intermountain</td>\n",
       "      <td>11919</td>\n",
       "      <td>15138</td>\n",
       "      <td>25220</td>\n",
       "      <td>16213</td>\n",
       "      <td>13363</td>\n",
       "      <td>7561</td>\n",
       "      <td>7068</td>\n",
       "      <td>6098</td>\n",
       "      <td>7314</td>\n",
       "      <td>12392</td>\n",
       "      <td>16607</td>\n",
       "      <td>14388</td>\n",
       "    </tr>\n",
       "    <tr>\n",
       "      <th>4</th>\n",
       "      <td>Biscayne</td>\n",
       "      <td>Southeast</td>\n",
       "      <td>3633</td>\n",
       "      <td>3858</td>\n",
       "      <td>4200</td>\n",
       "      <td>3489</td>\n",
       "      <td>4851</td>\n",
       "      <td>2897</td>\n",
       "      <td>2517</td>\n",
       "      <td>1836</td>\n",
       "      <td>2969</td>\n",
       "      <td>1989</td>\n",
       "      <td>4295</td>\n",
       "      <td>4839</td>\n",
       "    </tr>\n",
       "  </tbody>\n",
       "</table>\n",
       "</div>"
      ],
      "text/plain": [
       "   Park_Name     Park_Region  January  February  March  April    May   June  \\\n",
       "0    Acadia       Northeast      4897      4747   6974  13651  33695  65743   \n",
       "1    Arches   Intermountain      9872     14677  47401  59083  73696  74871   \n",
       "2  Badlands         Midwest      6427      6504  10662  13410  39212  77261   \n",
       "3  Big Bend   Intermountain     11919     15138  25220  16213  13363   7561   \n",
       "4  Biscayne       Southeast      3633      3858   4200   3489   4851   2897   \n",
       "\n",
       "    July  August  September  October  November  December  \n",
       "0  99069  101424      79451    60261      9108      4727  \n",
       "1  73381   65658      70500    58690     30006     16450  \n",
       "2  91826   79645      56216    18258      9636      6059  \n",
       "3   7068    6098       7314    12392     16607     14388  \n",
       "4   2517    1836       2969     1989      4295      4839  "
      ]
     },
     "execution_count": 26,
     "metadata": {},
     "output_type": "execute_result"
    }
   ],
   "source": [
    "# read data and rename column to be deleted later\n",
    "parks_month_data = pd.read_csv(\"../data/np_data_month.csv\")\n",
    "parks_month_data.head()"
   ]
  },
  {
   "cell_type": "code",
   "execution_count": 36,
   "metadata": {},
   "outputs": [
    {
     "name": "stdout",
     "output_type": "stream",
     "text": [
      "['January', 'February', 'March', 'April', 'May', 'June', 'July', 'August', 'September', 'October', 'November', 'December']\n"
     ]
    }
   ],
   "source": [
    "# create list of years 1904-2019\n",
    "parks = []\n",
    "for i in parks_month_data[\"Park_Name\"]:\n",
    "    parks.append(i)\n",
    "months = []\n",
    "for i in parks_month_data.loc[parks_month_data[\"Park_Name\"]==\"Acadia\",\"January\":\"December\"]:\n",
    "    months.append(i)\n",
    "print(months)"
   ]
  },
  {
   "cell_type": "code",
   "execution_count": 43,
   "metadata": {},
   "outputs": [
    {
     "name": "stdout",
     "output_type": "stream",
     "text": [
      "{'parks': ['Acadia ', 'Arches ', 'Badlands ', 'Big Bend ', 'Biscayne ', 'Black Canyon of the Gunnison ', 'Bryce Canyon ', 'Canyonlands ', 'Capitol Reef ', 'Carlsbad Caverns ', 'Congaree ', 'Crater Lake ', 'Cuyahoga Valley ', 'Death Valley ', 'Everglades ', 'Glacier ', 'Grand Canyon ', 'Grand Teton ', 'Great Basin ', 'Great Sand Dunes', 'Great Smoky Mountains ', 'Guadalupe Mountains ', 'Haleakala ', 'Hawaii Volcanoes ', 'Hot Springs ', 'Indiana Dunes ', 'Joshua Tree ', 'Kenai Fjords ', 'Kings Canyon ', 'Lassen Volcanic ', 'Mesa Verde ', 'Mount Rainier ', 'North Cascades ', 'Olympic ', 'Petrified Forest ', 'Pinnacles ', 'Redwood ', 'Rocky Mountain ', 'Saguaro ', 'Sequoia ', 'Shenandoah ', 'Theodore Roosevelt ', 'Wind Cave ', 'Yellowstone ', 'Yosemite ', 'Zion '], 'months': ['January', 'February', 'March', 'April', 'May', 'June', 'July', 'August', 'September', 'October', 'November', 'December'], 'Acadia ': {'Park_Name': 'Acadia ', 'Park_Region': 'Northeast ', 'January': 4897, 'February': 4747, 'March': 6974, 'April': 13651, 'May': 33695, 'June': 65743, 'July': 99069, 'August': 101424, 'September': 79451, 'November': 9108, 'December': 4727}, 'Arches ': {'Park_Name': 'Arches ', 'Park_Region': 'Intermountain ', 'January': 9872, 'February': 14677, 'March': 47401, 'April': 59083, 'May': 73696, 'June': 74871, 'July': 73381, 'August': 65658, 'September': 70500, 'November': 30006, 'December': 16450}, 'Badlands ': {'Park_Name': 'Badlands ', 'Park_Region': 'Midwest ', 'January': 6427, 'February': 6504, 'March': 10662, 'April': 13410, 'May': 39212, 'June': 77261, 'July': 91826, 'August': 79645, 'September': 56216, 'November': 9636, 'December': 6059}, 'Big Bend ': {'Park_Name': 'Big Bend ', 'Park_Region': 'Intermountain ', 'January': 11919, 'February': 15138, 'March': 25220, 'April': 16213, 'May': 13363, 'June': 7561, 'July': 7068, 'August': 6098, 'September': 7314, 'November': 16607, 'December': 14388}, 'Biscayne ': {'Park_Name': 'Biscayne ', 'Park_Region': 'Southeast ', 'January': 3633, 'February': 3858, 'March': 4200, 'April': 3489, 'May': 4851, 'June': 2897, 'July': 2517, 'August': 1836, 'September': 2969, 'November': 4295, 'December': 4839}, 'Black Canyon of the Gunnison ': {'Park_Name': 'Black Canyon of the Gunnison ', 'Park_Region': 'Intermountain ', 'January': 2120, 'February': 1944, 'March': 3237, 'April': 7035, 'May': 17726, 'June': 19117, 'July': 18281, 'August': 20975, 'September': 18719, 'November': 7096, 'December': 1583}, 'Bryce Canyon ': {'Park_Name': 'Bryce Canyon ', 'Park_Region': 'Intermountain ', 'January': 11375, 'February': 12335, 'March': 34491, 'April': 54568, 'May': 79697, 'June': 80361, 'July': 85147, 'August': 83599, 'September': 84258, 'November': 27761, 'December': 17326}, 'Canyonlands ': {'Park_Name': 'Canyonlands ', 'Park_Region': 'Intermountain ', 'January': 3407, 'February': 6788, 'March': 24320, 'April': 36175, 'May': 44995, 'June': 35606, 'July': 26644, 'August': 27629, 'September': 37799, 'November': 15179, 'December': 6240}, 'Capitol Reef ': {'Park_Name': 'Capitol Reef ', 'Park_Region': 'Intermountain ', 'January': 10667, 'February': 13719, 'March': 51841, 'April': 90040, 'May': 121690, 'June': 93686, 'July': 90773, 'August': 80683, 'September': 109840, 'November': 33641, 'December': 17134}, 'Carlsbad Caverns ': {'Park_Name': 'Carlsbad Caverns ', 'Park_Region': 'Intermountain ', 'January': 6624, 'February': 8941, 'March': 21240, 'April': 16438, 'May': 20846, 'June': 23572, 'July': 28478, 'August': 13096, 'September': 14234, 'November': 12920, 'December': 10187}, 'Congaree ': {'Park_Name': 'Congaree ', 'Park_Region': 'Southeast ', 'January': 2645, 'February': 3653, 'March': 6804, 'April': 5339, 'May': 7365, 'June': 4784, 'July': 3614, 'August': 4300, 'September': 3048, 'November': 3988, 'December': 3627}, 'Crater Lake ': {'Park_Name': 'Crater Lake ', 'Park_Region': 'Pacific West ', 'January': 1685, 'February': 1851, 'March': 3408, 'April': 7219, 'May': 17899, 'June': 49011, 'July': 74456, 'August': 62785, 'September': 44193, 'November': 5267, 'December': 2525}, 'Cuyahoga Valley ': {'Park_Name': 'Cuyahoga Valley ', 'Park_Region': 'Midwest ', 'January': 41014, 'February': 39039, 'March': 50720, 'April': 75154, 'May': 88288, 'June': 110041, 'July': 122598, 'August': 111726, 'September': 93205, 'November': 54040, 'December': 40382}, 'Death Valley ': {'Park_Name': 'Death Valley ', 'Park_Region': 'Pacific West ', 'January': 27641, 'February': 34390, 'March': 54043, 'April': 42919, 'May': 40423, 'June': 29619, 'July': 42348, 'August': 51067, 'September': 46244, 'November': 37271, 'December': 36212}, 'Everglades ': {'Park_Name': 'Everglades ', 'Park_Region': 'Southeast ', 'January': 5314, 'February': 4387, 'March': 9334, 'April': 7810, 'May': 4971, 'June': 3482, 'July': 1457, 'August': 5443, 'September': 4941, 'November': 8803, 'December': 10093}, 'Glacier ': {'Park_Name': 'Glacier ', 'Park_Region': 'Intermountain ', 'January': 5151, 'February': 4898, 'March': 7943, 'April': 14538, 'May': 64444, 'June': 196024, 'July': 320639, 'August': 273857, 'September': 159616, 'November': 8035, 'December': 5511}, 'Grand Canyon ': {'Park_Name': 'Grand Canyon ', 'Park_Region': 'Intermountain ', 'January': 80372, 'February': 82697, 'March': 166492, 'April': 170533, 'May': 198951, 'June': 208242, 'July': 224689, 'August': 206556, 'September': 195094, 'November': 119212, 'December': 107509}, 'Grand Teton ': {'Park_Name': 'Grand Teton ', 'Park_Region': 'Intermountain ', 'January': 110819, 'February': 103302, 'March': 121658, 'April': 105704, 'May': 275623, 'June': 486944, 'July': 589024, 'August': 538510, 'September': 451672, 'November': 93797, 'December': 106151}, 'Great Basin ': {'Park_Name': 'Great Basin ', 'Park_Region': 'Pacific West ', 'January': 2368, 'February': 4057, 'March': 11954, 'April': 13734, 'May': 26394, 'June': 35355, 'July': 43289, 'August': 34010, 'September': 42663, 'November': 6494, 'December': 4595}, 'Great Sand Dunes': {'Park_Name': 'Great Sand Dunes', 'Park_Region': 'Intermountain ', 'January': 1829, 'February': 2326, 'March': 7258, 'April': 8844, 'May': 21838, 'June': 30568, 'July': 28593, 'August': 22894, 'September': 19499, 'November': 4498, 'December': 2644}, 'Great Smoky Mountains ': {'Park_Name': 'Great Smoky Mountains ', 'Park_Region': 'Southeast ', 'January': 795779, 'February': 878138, 'March': 1165336, 'April': 1047554, 'May': 916684, 'June': 1154731, 'July': 1509119, 'August': 1151574, 'September': 1422956, 'November': 1356146, 'December': 1025466}, 'Guadalupe Mountains ': {'Park_Name': 'Guadalupe Mountains ', 'Park_Region': 'Midwest ', 'January': 3770, 'February': 6304, 'March': 11923, 'April': 8154, 'May': 8317, 'June': 6708, 'July': 5915, 'August': 5722, 'September': 5806, 'November': 8586, 'December': 5886}, 'Haleakala ': {'Park_Name': 'Haleakala ', 'Park_Region': 'Pacific West ', 'January': 33898, 'February': 31865, 'March': 35524, 'April': 33234, 'May': 34676, 'June': 34313, 'July': 37630, 'August': 33457, 'September': 32696, 'November': 22390, 'December': 31517}, 'Hawaii Volcanoes ': {'Park_Name': 'Hawaii Volcanoes ', 'Park_Region': 'Pacific West ', 'January': 75118, 'February': 71094, 'March': 76551, 'April': 69423, 'May': 58079, 'June': 54569, 'July': 61462, 'August': 58469, 'September': 51765, 'November': 60582, 'December': 69442}, 'Hot Springs ': {'Park_Name': 'Hot Springs ', 'Park_Region': 'Midwest ', 'January': 174276, 'February': 204996, 'March': 250010, 'April': 228346, 'May': 242725, 'June': 287129, 'July': 252171, 'August': 261658, 'September': 255111, 'November': 205891, 'December': 208180}, 'Indiana Dunes ': {'Park_Name': 'Indiana Dunes ', 'Park_Region': 'Midwest ', 'January': 26790, 'February': 32307, 'March': 52273, 'April': 46682, 'May': 64601, 'June': 104088, 'July': 149635, 'August': 119322, 'September': 101573, 'November': 31664, 'December': 23497}, 'Joshua Tree ': {'Park_Name': 'Joshua Tree ', 'Park_Region': 'Pacific West ', 'January': 70140, 'February': 71917, 'March': 107671, 'April': 89370, 'May': 65730, 'June': 38925, 'July': 36969, 'August': 39066, 'September': 43031, 'November': 76115, 'December': 79272}, 'Kenai Fjords ': {'Park_Name': 'Kenai Fjords ', 'Park_Region': 'Alaska', 'January': 0, 'February': 0, 'March': 0, 'April': 23, 'May': 5511, 'June': 13160, 'July': 17766, 'August': 15190, 'September': 6830, 'November': 0, 'December': 0}, 'Kings Canyon ': {'Park_Name': 'Kings Canyon ', 'Park_Region': 'Pacific West ', 'January': 7181, 'February': 5635, 'March': 8074, 'April': 13875, 'May': 29245, 'June': 40231, 'July': 51620, 'August': 44410, 'September': 35028, 'November': 11759, 'December': 8280}, 'Lassen Volcanic ': {'Park_Name': 'Lassen Volcanic ', 'Park_Region': 'Pacific West ', 'January': 3185, 'February': 2512, 'March': 2678, 'April': 4746, 'May': 11975, 'June': 27889, 'July': 46938, 'August': 41448, 'September': 32405, 'November': 3460, 'December': 2905}, 'Mesa Verde ': {'Park_Name': 'Mesa Verde ', 'Park_Region': 'Intermountain ', 'January': 2325, 'February': 2827, 'March': 8090, 'April': 13176, 'May': 25114, 'June': 32162, 'July': 35204, 'August': 28118, 'September': 28058, 'November': 5569, 'December': 3925}, 'Mount Rainier ': {'Park_Name': 'Mount Rainier ', 'Park_Region': 'Pacific West ', 'January': 10396, 'February': 8585, 'March': 11769, 'April': 14707, 'May': 64719, 'June': 116896, 'July': 211859, 'August': 212832, 'September': 120723, 'November': 25511, 'December': 11914}, 'North Cascades ': {'Park_Name': 'North Cascades ', 'Park_Region': 'Pacific West ', 'January': 7, 'February': 4, 'March': 10, 'April': 42, 'May': 274, 'June': 769, 'July': 1582, 'August': 1659, 'September': 1212, 'November': 25, 'December': 13}, 'Olympic ': {'Park_Name': 'Olympic ', 'Park_Region': 'Pacific West ', 'January': 42537, 'February': 47629, 'March': 53070, 'April': 85063, 'May': 121569, 'June': 167005, 'July': 177259, 'August': 199537, 'September': 125365, 'November': 50860, 'December': 35850}, 'Petrified Forest ': {'Park_Name': 'Petrified Forest ', 'Park_Region': 'Intermountain ', 'January': 11434, 'February': 13706, 'March': 30847, 'April': 29813, 'May': 37958, 'June': 40502, 'July': 38671, 'August': 30151, 'September': 30650, 'November': 18073, 'December': 14931}, 'Pinnacles ': {'Park_Name': 'Pinnacles ', 'Park_Region': 'Pacific West ', 'January': 3756, 'February': 5443, 'March': 7926, 'April': 8235, 'May': 7334, 'June': 6535, 'July': 5192, 'August': 5072, 'September': 5372, 'November': 6004, 'December': 5338}, 'Redwood ': {'Park_Name': 'Redwood ', 'Park_Region': 'Pacific West ', 'January': 14614, 'February': 11270, 'March': 16401, 'April': 15748, 'May': 23867, 'June': 27968, 'July': 25663, 'August': 19768, 'September': 18063, 'November': 13067, 'December': 14763}, 'Rocky Mountain ': {'Park_Name': 'Rocky Mountain ', 'Park_Region': 'Intermountain ', 'January': 30036, 'February': 28425, 'March': 45098, 'April': 47075, 'May': 92748, 'June': 224885, 'July': 290017, 'August': 250544, 'September': 260115, 'November': 43673, 'December': 30389}, 'Saguaro ': {'Park_Name': 'Saguaro ', 'Park_Region': 'Intermountain ', 'January': 301102, 'February': 297646, 'March': 336494, 'April': 299832, 'May': 298146, 'June': 271585, 'July': 280488, 'August': 278304, 'September': 267681, 'November': 293830, 'December': 302527}, 'Sequoia ': {'Park_Name': 'Sequoia ', 'Park_Region': 'Pacific West ', 'January': 14471, 'February': 14361, 'March': 24122, 'April': 30823, 'May': 44649, 'June': 55278, 'July': 70049, 'August': 64848, 'September': 49424, 'November': 21273, 'December': 19321}, 'Shenandoah ': {'Park_Name': 'Shenandoah ', 'Park_Region': 'Northeast ', 'January': 10363, 'February': 11937, 'March': 21729, 'April': 44742, 'May': 59909, 'June': 65701, 'July': 72743, 'August': 70246, 'September': 63409, 'November': 52864, 'December': 12597}, 'Theodore Roosevelt ': {'Park_Name': 'Theodore Roosevelt ', 'Park_Region': 'Midwest ', 'January': 1527, 'February': 1507, 'March': 3628, 'April': 6510, 'May': 29528, 'June': 46288, 'July': 59733, 'August': 55111, 'September': 38193, 'November': 7384, 'December': 1527}, 'Wind Cave ': {'Park_Name': 'Wind Cave ', 'Park_Region': 'Midwest ', 'January': 17210, 'February': 21990, 'March': 28361, 'April': 28517, 'May': 33157, 'June': 79898, 'July': 77722, 'August': 62326, 'September': 49344, 'November': 21847, 'December': 17194}, 'Yellowstone ': {'Park_Name': 'Yellowstone ', 'Park_Region': 'Intermountain ', 'January': 55406, 'February': 54767, 'March': 63923, 'April': 78564, 'May': 263543, 'June': 439714, 'July': 536072, 'August': 478552, 'September': 381590, 'November': 59630, 'December': 52595}, 'Yosemite ': {'Park_Name': 'Yosemite ', 'Park_Region': 'Pacific West ', 'January': 61094, 'February': 68884, 'March': 90522, 'April': 119505, 'May': 185169, 'June': 257281, 'July': 315985, 'August': 278968, 'September': 264777, 'November': 97685, 'December': 95115}, 'Zion ': {'Park_Name': 'Zion ', 'Park_Region': 'Intermountain ', 'January': 46853, 'February': 54166, 'March': 118147, 'April': 138223, 'May': 161724, 'June': 157804, 'July': 161367, 'August': 147093, 'September': 157300, 'November': 88809, 'December': 60198}}\n"
     ]
    }
   ],
   "source": [
    "# create empty dictionary to hold all final information\n",
    "np_data = {}\n",
    "# add list of all years as first item in final dict\n",
    "np_data[\"parks\"]=(parks)\n",
    "np_data[\"months\"]=(months)\n",
    "# working variable\n",
    "wip_dict = {}\n",
    "# loop through each park to gather stats and visit #s\n",
    "for i in parks_month_data[\"Park_Name\"]:\n",
    "    wip = parks_month_data.loc[parks_month_data[\"Park_Name\"]==i,:]\n",
    "    wip_list = []\n",
    "    wip_list1 = []\n",
    "    for j in months:\n",
    "        wip_list.append(j)\n",
    "        wip_list1.append(wip[j].item())\n",
    "    wip_dict = {\n",
    "        \"Park_Name\":i,\n",
    "        \"Park_Region\":parks_month_data.loc[parks_month_data[\"Park_Name\"]==i,\"Park_Region\"].item(),\n",
    "        \"January\":parks_month_data.loc[parks_month_data[\"Park_Name\"]==i,\"January\"].item(),\n",
    "        \"February\":parks_month_data.loc[parks_month_data[\"Park_Name\"]==i,\"February\"].item(),\n",
    "        \"March\":parks_month_data.loc[parks_month_data[\"Park_Name\"]==i,\"March\"].item(),\n",
    "        \"April\":parks_month_data.loc[parks_month_data[\"Park_Name\"]==i,\"April\"].item(),\n",
    "        \"May\":parks_month_data.loc[parks_month_data[\"Park_Name\"]==i,\"May\"].item(),\n",
    "        \"June\":parks_month_data.loc[parks_month_data[\"Park_Name\"]==i,\"June\"].item(),\n",
    "        \"July\":parks_month_data.loc[parks_month_data[\"Park_Name\"]==i,\"July\"].item(),\n",
    "        \"August\":parks_month_data.loc[parks_month_data[\"Park_Name\"]==i,\"August\"].item(),\n",
    "        \"September\":parks_month_data.loc[parks_month_data[\"Park_Name\"]==i,\"September\"].item(),\n",
    "        \"November\":parks_month_data.loc[parks_month_data[\"Park_Name\"]==i,\"November\"].item(),\n",
    "        \"December\":parks_month_data.loc[parks_month_data[\"Park_Name\"]==i,\"December\"].item()\n",
    "    }\n",
    "    np_data[i]=(wip_dict)\n",
    "#np_data is now a dict of dicts holding all of the information\n",
    "print(np_data)"
   ]
  },
  {
   "cell_type": "code",
   "execution_count": 44,
   "metadata": {},
   "outputs": [
    {
     "name": "stdout",
     "output_type": "stream",
     "text": [
      "Done,son\n"
     ]
    }
   ],
   "source": [
    "#PUSH np_data dict of dicts to MongoDB\n",
    "conn = 'mongodb://localhost:27017'\n",
    "client = pymongo.MongoClient(conn)\n",
    "# define the database\n",
    "db = client.national_parks1_db\n",
    "# define collections\n",
    "park_info = db.park_info\n",
    "park_info.drop()\n",
    "park_info.insert_one(np_data)\n",
    "print(\"Done,son\")"
   ]
  },
  {
   "cell_type": "code",
   "execution_count": null,
   "metadata": {},
   "outputs": [],
   "source": []
  }
 ],
 "metadata": {
  "kernelspec": {
   "display_name": "Python 3",
   "language": "python",
   "name": "python3"
  },
  "language_info": {
   "codemirror_mode": {
    "name": "ipython",
    "version": 3
   },
   "file_extension": ".py",
   "mimetype": "text/x-python",
   "name": "python",
   "nbconvert_exporter": "python",
   "pygments_lexer": "ipython3",
   "version": "3.7.6"
  }
 },
 "nbformat": 4,
 "nbformat_minor": 4
}