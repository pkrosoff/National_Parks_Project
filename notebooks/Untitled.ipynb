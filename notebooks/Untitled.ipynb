{
 "cells": [
  {
   "cell_type": "code",
   "execution_count": 14,
   "metadata": {},
   "outputs": [
    {
     "data": {
      "text/html": [
       "<div>\n",
       "<style scoped>\n",
       "    .dataframe tbody tr th:only-of-type {\n",
       "        vertical-align: middle;\n",
       "    }\n",
       "\n",
       "    .dataframe tbody tr th {\n",
       "        vertical-align: top;\n",
       "    }\n",
       "\n",
       "    .dataframe thead th {\n",
       "        text-align: right;\n",
       "    }\n",
       "</style>\n",
       "<table border=\"1\" class=\"dataframe\">\n",
       "  <thead>\n",
       "    <tr style=\"text-align: right;\">\n",
       "      <th></th>\n",
       "      <th>park_name</th>\n",
       "      <th>park_code</th>\n",
       "      <th>region</th>\n",
       "      <th>state</th>\n",
       "      <th>year</th>\n",
       "      <th>Total</th>\n",
       "    </tr>\n",
       "  </thead>\n",
       "  <tbody>\n",
       "    <tr>\n",
       "      <th>0</th>\n",
       "      <td>Acadia</td>\n",
       "      <td>ACAD</td>\n",
       "      <td>Northeast</td>\n",
       "      <td>ME</td>\n",
       "      <td>1919</td>\n",
       "      <td>64,000</td>\n",
       "    </tr>\n",
       "    <tr>\n",
       "      <th>1</th>\n",
       "      <td>Acadia</td>\n",
       "      <td>ACAD</td>\n",
       "      <td>Northeast</td>\n",
       "      <td>ME</td>\n",
       "      <td>1920</td>\n",
       "      <td>66,500</td>\n",
       "    </tr>\n",
       "    <tr>\n",
       "      <th>2</th>\n",
       "      <td>Acadia</td>\n",
       "      <td>ACAD</td>\n",
       "      <td>Northeast</td>\n",
       "      <td>ME</td>\n",
       "      <td>1921</td>\n",
       "      <td>69,836</td>\n",
       "    </tr>\n",
       "    <tr>\n",
       "      <th>3</th>\n",
       "      <td>Acadia</td>\n",
       "      <td>ACAD</td>\n",
       "      <td>Northeast</td>\n",
       "      <td>ME</td>\n",
       "      <td>1922</td>\n",
       "      <td>73,779</td>\n",
       "    </tr>\n",
       "    <tr>\n",
       "      <th>4</th>\n",
       "      <td>Acadia</td>\n",
       "      <td>ACAD</td>\n",
       "      <td>Northeast</td>\n",
       "      <td>ME</td>\n",
       "      <td>1923</td>\n",
       "      <td>64,200</td>\n",
       "    </tr>\n",
       "  </tbody>\n",
       "</table>\n",
       "</div>"
      ],
      "text/plain": [
       "  park_name park_code      region state  year   Total\n",
       "0    Acadia      ACAD  Northeast     ME  1919  64,000\n",
       "1    Acadia      ACAD  Northeast     ME  1920  66,500\n",
       "2    Acadia      ACAD  Northeast     ME  1921  69,836\n",
       "3    Acadia      ACAD  Northeast     ME  1922  73,779\n",
       "4    Acadia      ACAD  Northeast     ME  1923  64,200"
      ]
     },
     "execution_count": 14,
     "metadata": {},
     "output_type": "execute_result"
    }
   ],
   "source": [
    "import pymongo\n",
    "import pandas as pd\n",
    "park_info_df = pd.read_csv('../data/np_parks_info.csv')\n",
    "park_info_df.head()\n",
    "park_atten_df = pd.read_csv('../data/npvisitation_1904_1978.csv')\n",
    "park_atten_df.head()"
   ]
  },
  {
   "cell_type": "code",
   "execution_count": 10,
   "metadata": {},
   "outputs": [],
   "source": [
    "conn = 'mongodb://localhost:27017'\n",
    "client = pymongo.MongoClient(conn)\n",
    "\n",
    "# define the database\n",
    "db = client.national_parks_db"
   ]
  },
  {
   "cell_type": "code",
   "execution_count": 11,
   "metadata": {},
   "outputs": [],
   "source": [
    "# define collections\n",
    "park_info = db.park_info\n",
    "park_atten = db.park_atten\n"
   ]
  },
  {
   "cell_type": "code",
   "execution_count": 12,
   "metadata": {},
   "outputs": [],
   "source": [
    "# fill database collection park_info\n",
    "for index, row in park_info_df.iterrows():\n",
    "    \n",
    "    post = {\n",
    "        \"park_name\": str(row[\"park_name\"]),\n",
    "        \"park_code\": str(row[\"park_code\"]),\n",
    "        \"region\": str(row[\"region\"]),\n",
    "        \"state\": str(row[\"state\"]),\n",
    "        \"est_date\": str(row[\"date_established\"]),\n",
    "        \"area\": str(row[\"area_km2\"]),\n",
    "        \"image_url\": str(row[\"img_url\"]),\n",
    "        \"description\": str(row[\"description\"])\n",
    "    }\n",
    "    #Insert data into business collection, post{} by post{}\n",
    "    park_info.insert_one(post)"
   ]
  },
  {
   "cell_type": "code",
   "execution_count": null,
   "metadata": {},
   "outputs": [],
   "source": [
    "# fill database collection park_atten\n"
   ]
  }
 ],
 "metadata": {
  "kernelspec": {
   "display_name": "Python 3",
   "language": "python",
   "name": "python3"
  },
  "language_info": {
   "codemirror_mode": {
    "name": "ipython",
    "version": 3
   },
   "file_extension": ".py",
   "mimetype": "text/x-python",
   "name": "python",
   "nbconvert_exporter": "python",
   "pygments_lexer": "ipython3",
   "version": "3.6.12"
  }
 },
 "nbformat": 4,
 "nbformat_minor": 4
}
